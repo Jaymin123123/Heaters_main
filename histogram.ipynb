{
 "cells": [
  {
   "cell_type": "code",
   "execution_count": 4,
   "metadata": {},
   "outputs": [],
   "source": [
    "from datetime import datetime, timedelta\n",
    "import pandas as pd\n",
    "import numpy as np\n",
    "from tqdm import tqdm\n",
    "\n",
    "import matplotlib.pyplot as plt\n",
    "import matplotlib.pylab as pl\n",
    "from joblib import load\n",
    "import os\n",
    "\n",
    "import helpers as h\n",
    "\n",
    "# lets you make changes to external files, which are then automatically reload\n",
    "%load_ext autoreload\n",
    "%autoreload 2"
   ]
  },
  {
   "cell_type": "markdown",
   "metadata": {},
   "source": [
    "Loading in the model\n"
   ]
  },
  {
   "cell_type": "code",
   "execution_count": 1,
   "metadata": {},
   "outputs": [],
   "source": [
    "length = 500\n",
    "steps = 50\n",
    "period = int(length/steps)"
   ]
  },
  {
   "cell_type": "code",
   "execution_count": 6,
   "metadata": {},
   "outputs": [],
   "source": [
    "####ranges i want to see#####\n",
    "\n",
    "numbers = [0, 20 ,40]"
   ]
  },
  {
   "cell_type": "code",
   "execution_count": 7,
   "metadata": {},
   "outputs": [],
   "source": [
    "ds_duration = 500\n",
    "ds_period = -1\n",
    "IBSorOBS = 'OBS'\n",
    "opt = 'untuned'\n",
    "models ={}\n",
    "folder = 'Y:\\\\Heaters_main-1\\\\Models\\\\RF\\\\'\n",
    "\n",
    "if ds_period < 0:\n",
    "    HP_TIME_BINS = h.get_var_time_bins(ds_duration)\n",
    "else:\n",
    "    HP_TIME_BINS = np.arange(0, ds_duration, ds_period)\n",
    "\n",
    "##### Change as necessary #####\n",
    "component = 'R'\n",
    "\n",
    "############\n",
    "for number in numbers:\n",
    "    models['number'] = load(folder + f\"{IBSorOBS}_{opt}_{ds_period}_{ds_duration}_{number}.joblib\")\n"
   ]
  },
  {
   "cell_type": "code",
   "execution_count": null,
   "metadata": {},
   "outputs": [],
   "source": []
  }
 ],
 "metadata": {
  "kernelspec": {
   "display_name": "heaters",
   "language": "python",
   "name": "python3"
  },
  "language_info": {
   "codemirror_mode": {
    "name": "ipython",
    "version": 3
   },
   "file_extension": ".py",
   "mimetype": "text/x-python",
   "name": "python",
   "nbconvert_exporter": "python",
   "pygments_lexer": "ipython3",
   "version": "3.9.19"
  }
 },
 "nbformat": 4,
 "nbformat_minor": 2
}
